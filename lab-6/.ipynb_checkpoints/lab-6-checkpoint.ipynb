{
  "nbformat": 4,
  "nbformat_minor": 0,
  "metadata": {
    "colab": {
      "provenance": []
    },
    "kernelspec": {
      "name": "python3",
      "display_name": "Python 3"
    },
    "language_info": {
      "name": "python"
    }
  },
  "cells": [
    {
      "cell_type": "markdown",
      "source": [
        "# Polynomial Fitting\n",
        "\n",
        "This notebook allows you to plot data (with y-error bars) and fit to an nth order polynomial."
      ],
      "metadata": {
        "id": "mpnS19Xz_Du1"
      }
    },
    {
      "cell_type": "markdown",
      "source": [
        "## Definitions\n",
        "----\n",
        "As usual we begin by importing useful libraries and functions."
      ],
      "metadata": {
        "id": "a4Jk_XX99rLh"
      }
    },
    {
      "cell_type": "code",
      "execution_count": null,
      "metadata": {
        "id": "_JliHgRH9a-W"
      },
      "outputs": [],
      "source": [
        "%matplotlib inline\n",
        "import math\n",
        "import numpy as np\n",
        "import matplotlib.pyplot as plt\n",
        "from scipy import optimize"
      ]
    },
    {
      "cell_type": "markdown",
      "source": [
        "## Adding your data\n",
        "----\n",
        "In the next cell you can enter your X and Y data and uncertainties on the Y values."
      ],
      "metadata": {
        "id": "bwCYeVu1-dbb"
      }
    },
    {
      "cell_type": "code",
      "source": [
        "# This creates empty lists\n",
        "Y = np.array([-1, -.76, -.54, -.26, 0.26, 0.5, 0.77, 1.05, 1.30])\n",
        "dY = np.array([0.05, 0.05, 0.05, 0.05, 0.05, 0.05, 0.05, 0.05, 0.05])\n",
        "X = np.array([-20, -15, -10, -5, 5, 10, 15, 20, 25])"
      ],
      "metadata": {
        "id": "OjcygLtq9sFK"
      },
      "execution_count": null,
      "outputs": []
    },
    {
      "cell_type": "markdown",
      "source": [
        "## Quick test plot\n",
        "----\n",
        "\n",
        "Next we'll quickly plot each data set to make sure that we haven't done anything strange."
      ],
      "metadata": {
        "id": "K_QN9-9A-n15"
      }
    },
    {
      "cell_type": "code",
      "source": [
        "fig = plt.figure() # Create a plot figure called 'fig'.\n",
        "ax = fig.add_subplot(111) # Define a set of axes called 'ax'.\n",
        "\n",
        "ax.errorbar(X, Y, dY, fmt='ok') #Plot X vs Y using black (k) circles (o)\n",
        "\n",
        "# Set the title and axes labels for the plot.\n",
        "ax.set_title('Your Title Here')\n",
        "ax.set_xlabel('Your X-Axis Label Here')\n",
        "ax.set_ylabel('Your Y-Axis Label Here')"
      ],
      "metadata": {
        "colab": {
          "base_uri": "https://localhost:8080/",
          "height": 312
        },
        "id": "DPZg9j079-Bw",
        "outputId": "916df72c-0069-45b0-84f6-228f34a236ca"
      },
      "execution_count": null,
      "outputs": [
        {
          "output_type": "execute_result",
          "data": {
            "text/plain": [
              "Text(0, 0.5, 'Your Y-Axis Label Here')"
            ]
          },
          "metadata": {},
          "execution_count": 10
        },
        {
          "output_type": "display_data",
          "data": {
            "text/plain": [
              "<Figure size 432x288 with 1 Axes>"
            ],
            "image/png": "[encoded data removed]"
          },
          "metadata": {
            "needs_background": "light"
          }
        }
      ]
    },
    {
      "cell_type": "markdown",
      "source": [
        "## Fit data to a polynomial\n",
        "----\n",
        "\n",
        "The next cell uses the NUMPY Polyfit function to fit your X and Y data to an nth order polynomial.  The code is written assuming a polynomial of order 1 which is a linear function of a straight line.  The returned best fit parameters correspond to the Slope of the line for fit_parameters[0] and the Y Intercept for fit_parameters[1]."
      ],
      "metadata": {
        "id": "b_TpVTz4-r0I"
      }
    },
    {
      "cell_type": "code",
      "source": [
        "fit_parameters = np.polyfit(X, Y, 1) # Call the fit function sending it your X and Y data and the order of the polynomial.\n",
        "\n",
        "print(\"Fit Result:\")\n",
        "try: # Try to compute the uncertainties in the best fit paramaters.\n",
        "    cov = np.polyfit(X,Y,1,cov=True)[1]\n",
        "    unc = [np.sqrt(cov[i,i]) for i in range(len(cov))]\n",
        "    print(\"Slope = \",fit_parameters[0],\"+-\",unc[0])\n",
        "    print(\"Y-Int = \",fit_parameters[1],\"+-\",unc[1])\n",
        "except ValueError:\n",
        "    print(\"Slope = \",fit_parameters[0])\n",
        "    print(\"Y-Int = \",fit_parameters[1])\n",
        "    print(\"Not enough data points to find fit uncertainties\")\n",
        "    \n",
        "print(\"Y = {:.3}\".format(fit_parameters[0]),\" * X + {:.3}\".format(fit_parameters[1]))   "
      ],
      "metadata": {
        "colab": {
          "base_uri": "https://localhost:8080/"
        },
        "id": "Z7bQo6eo-CBO",
        "outputId": "de9f70b8-71bc-4aea-8a48-e29062181a5d"
      },
      "execution_count": null,
      "outputs": [
        {
          "output_type": "stream",
          "name": "stdout",
          "text": [
            "Fit Result:\n",
            "Slope =  0.051462162162162164 +- 0.00040506935879246246\n",
            "Y-Int =  0.0037162162162162654 +- 0.006224258269457054\n",
            "Y = 0.0515  * X + 0.00372\n"
          ]
        }
      ]
    },
    {
      "cell_type": "markdown",
      "source": [
        "## Plot the best fit line and the data\n",
        "----\n",
        "\n",
        "The next cell generates data using the best fit parameters and plots these values along with the data."
      ],
      "metadata": {
        "id": "Hwue9Jli-zwX"
      }
    },
    {
      "cell_type": "code",
      "source": [
        "# Use the numpy linspace function to generate 50 evenly spaced x-axis values from \n",
        "# the minimum value of the X data to the Maximum value of the X data.\n",
        "\n",
        "fit_x = np.linspace(min(X), max(X), 50)\n",
        "\n",
        "# Calculate the the corresponding best fit y values using the best fit paramaters.\n",
        "fit_y = fit_parameters[0] * fit_x + fit_parameters[1]\n",
        "\n",
        "fig = plt.figure() # Create a plot figure called 'fig'.\n",
        "ax = fig.add_subplot(111) # Define a set of axes called 'ax'.\n",
        "\n",
        "ax.errorbar(X, Y, fmt='ok') \n",
        "ax.plot(fit_x, fit_y, '-r') \n",
        "\n",
        "# Set the title and axes labels for the plot.\n",
        "ax.set_title('Your Title Here')\n",
        "ax.set_xlabel('Your X-Axis Label Here')\n",
        "ax.set_ylabel('Your Y-Axis Label Here')"
      ],
      "metadata": {
        "colab": {
          "base_uri": "https://localhost:8080/",
          "height": 312
        },
        "id": "Mu38Tw_5-FIW",
        "outputId": "fe795140-01c6-4458-b0d3-b83c0a4fc4f2"
      },
      "execution_count": null,
      "outputs": [
        {
          "output_type": "execute_result",
          "data": {
            "text/plain": [
              "Text(0, 0.5, 'Your Y-Axis Label Here')"
            ]
          },
          "metadata": {},
          "execution_count": 12
        },
        {
          "output_type": "display_data",
          "data": {
            "text/plain": [
              "<Figure size 432x288 with 1 Axes>"
            ],
            "image/png": "[encoded data removed]"
          },
          "metadata": {
            "needs_background": "light"
          }
        }
      ]
    }
  ]
}